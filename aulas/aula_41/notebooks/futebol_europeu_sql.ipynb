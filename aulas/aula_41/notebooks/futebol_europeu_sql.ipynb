{
 "cells": [
  {
   "cell_type": "markdown",
   "metadata": {},
   "source": [
    "### Dados futebol: https://www.kaggle.com/hugomathien/soccer"
   ]
  },
  {
   "cell_type": "code",
   "execution_count": 1,
   "metadata": {},
   "outputs": [
    {
     "output_type": "error",
     "ename": "OperationalError",
     "evalue": "unable to open database file",
     "traceback": [
      "\u001b[1;31m---------------------------------------------------------------------------\u001b[0m",
      "\u001b[1;31mOperationalError\u001b[0m                          Traceback (most recent call last)",
      "\u001b[1;32m<ipython-input-1-e629264be4ea>\u001b[0m in \u001b[0;36m<module>\u001b[1;34m\u001b[0m\n\u001b[0;32m      8\u001b[0m \u001b[1;31m# For example, running this (by clicking run or pressing Shift+Enter) will list the files in the input directory\u001b[0m\u001b[1;33m\u001b[0m\u001b[1;33m\u001b[0m\u001b[1;33m\u001b[0m\u001b[0m\n\u001b[0;32m      9\u001b[0m \u001b[0mcaminho_banco\u001b[0m \u001b[1;33m=\u001b[0m \u001b[1;34m'./data/soccer.sqlite'\u001b[0m\u001b[1;33m\u001b[0m\u001b[1;33m\u001b[0m\u001b[0m\n\u001b[1;32m---> 10\u001b[1;33m \u001b[0mconn\u001b[0m \u001b[1;33m=\u001b[0m \u001b[0msqlite3\u001b[0m\u001b[1;33m.\u001b[0m\u001b[0mconnect\u001b[0m\u001b[1;33m(\u001b[0m\u001b[0mcaminho_banco\u001b[0m\u001b[1;33m)\u001b[0m\u001b[1;33m\u001b[0m\u001b[1;33m\u001b[0m\u001b[0m\n\u001b[0m\u001b[0;32m     11\u001b[0m \u001b[1;33m\u001b[0m\u001b[0m\n\u001b[0;32m     12\u001b[0m tables = pd.read_sql(\"\"\"SELECT *\n",
      "\u001b[1;31mOperationalError\u001b[0m: unable to open database file"
     ]
    }
   ],
   "source": [
    "import numpy as np # linear algebra\n",
    "import pandas as pd # data processing, CSV file I/O (e.g. pd.read_csv)\n",
    "import sqlite3\n",
    "import matplotlib.pyplot as plt\n",
    "\n",
    "\n",
    "# Input data files are available in the \"../input/\" directory.\n",
    "# For example, running this (by clicking run or pressing Shift+Enter) will list the files in the input directory\n",
    "caminho_banco = './data/soccer.sqlite'\n",
    "conn = sqlite3.connect(caminho_banco)\n",
    "\n",
    "tables = pd.read_sql(\"\"\"SELECT *\n",
    "                        FROM sqlite_master\n",
    "                        WHERE type='table';\"\"\", conn)\n",
    "tables"
   ]
  },
  {
   "cell_type": "code",
   "execution_count": null,
   "metadata": {},
   "outputs": [],
   "source": [
    "countries = pd.read_sql(\"\"\"SELECT * FROM Country;\"\"\", conn)\n",
    "countries"
   ]
  },
  {
   "cell_type": "code",
   "execution_count": null,
   "metadata": {},
   "outputs": [],
   "source": [
    "leagues = pd.read_sql(\"\"\"SELECT * FROM League \n",
    "                        JOIN Country \n",
    "                        ON Country.id = League.country_id;\"\"\", conn)\n",
    "leagues"
   ]
  },
  {
   "cell_type": "code",
   "execution_count": null,
   "metadata": {
    "tags": []
   },
   "outputs": [],
   "source": [
    "league_df = pd.read_sql(\"SELECT * FROM League\", conn)\n",
    "countries_df = pd.read_sql(\"SELECT * FROM Country\", conn)\n"
   ]
  },
  {
   "cell_type": "code",
   "execution_count": null,
   "metadata": {
    "tags": []
   },
   "outputs": [],
   "source": [
    "print(\"Leagues\")\n",
    "print(league_df.head(2))\n",
    "print(\"Countries\")\n",
    "print(countries_df.head(2))"
   ]
  },
  {
   "cell_type": "code",
   "execution_count": null,
   "metadata": {},
   "outputs": [],
   "source": [
    "league_df.merge(countries_df, \n",
    "                left_on=\"country_id\", \n",
    "                right_on=\"id\", \n",
    "                suffixes=[\"_league\", \"_countries\"] )"
   ]
  },
  {
   "cell_type": "code",
   "execution_count": null,
   "metadata": {},
   "outputs": [],
   "source": [
    "teams = pd.read_sql(\"\"\"SELECT * FROM Team \n",
    "                        ORDER BY team_long_name \n",
    "                        LIMIT 10;\"\"\", conn)\n",
    "teams"
   ]
  },
  {
   "cell_type": "markdown",
   "metadata": {},
   "source": [
    "# Uma query um pouco mais complexa:\n"
   ]
  },
  {
   "cell_type": "code",
   "execution_count": null,
   "metadata": {},
   "outputs": [],
   "source": [
    "leages_by_season = pd.read_sql(\"\"\"\n",
    "        SELECT \n",
    "                season, \n",
    "                COUNT(Match.id), \n",
    "                AVG(home_team_goal), \n",
    "                AVG(away_team_goal), \n",
    "                AVG(home_team_goal + away_team_goal) AS MediaGoalsNaPartida , \n",
    "                AVG(home_team_goal - away_team_goal) \n",
    "        FROM MATCH\n",
    "        JOIN Country on Country.id=Match.country_id\n",
    "        JOIN League on League.id = Match.league_id \n",
    "        LEFT JOIN Team AS HomeTeam on HomeTeam.team_api_id = Match.home_team_api_id\n",
    "        LEFT JOIN Team As AwayTeam on AwayTeam.team_api_id = Match.away_team_api_id\n",
    "        WHERE Country.name = \"England\"\n",
    "        GROUP BY season;\"\"\", conn)\n",
    "leages_by_season"
   ]
  },
  {
   "cell_type": "markdown",
   "metadata": {},
   "source": [
    " # Merging os DataFrames"
   ]
  },
  {
   "cell_type": "code",
   "execution_count": null,
   "metadata": {
    "tags": []
   },
   "outputs": [],
   "source": [
    "countries_df = pd.read_sql(\"SELECT * FROM Country\", conn)\n",
    "print(\"Countries shape: {}\".format(countries_df.shape))\n",
    "print(\"Columns : {}\".format(countries_df.columns))\n",
    "leagues_df = pd.read_sql(\"SELECT * FROM League\", conn)\n",
    "print(\"Leagues shape: {}\".format(leagues_df.shape))\n",
    "print(\"Columns : {}\".format(leagues_df.columns))\n",
    "team_df = pd.read_sql(\"SELECT * FROM Team\", conn)\n",
    "print(\"Team shape: {}\".format(team_df.shape))\n",
    "print(\"Columns : {}\".format(team_df.columns))\n",
    "matches_df = pd.read_sql(\"SELECT * FROM Match\", conn)\n",
    "print(\"Matches shape: {}\".format(matches_df.shape))\n",
    "print(\"Columns : {}\".format(matches_df.columns))\n"
   ]
  },
  {
   "cell_type": "code",
   "execution_count": null,
   "metadata": {
    "tags": []
   },
   "outputs": [],
   "source": [
    "matches_countries_df = matches_df.merge(countries_df,\n",
    "                                        left_on=\"country_id\", \n",
    "                                        right_on=\"id\", \n",
    "                                        suffixes=[\"_match\",\"_country\"])\n",
    "print(matches_countries_df.shape)"
   ]
  },
  {
   "cell_type": "code",
   "execution_count": null,
   "metadata": {
    "tags": []
   },
   "outputs": [],
   "source": [
    "matches_countries_leagues_df = matches_countries_df.merge(leagues_df, \n",
    "                                                          left_on=\"league_id\", \n",
    "                                                          right_on=\"id\", \n",
    "                                                          suffixes=[\"_country\",\"_league\"])\n",
    "print(matches_countries_leagues_df.shape)"
   ]
  },
  {
   "cell_type": "code",
   "execution_count": null,
   "metadata": {
    "tags": []
   },
   "outputs": [],
   "source": [
    "hometeam_matches_countries_leagues_df = matches_countries_leagues_df.merge(\n",
    "    team_df, how=\"left\",\n",
    "    left_on=\"home_team_api_id\", \n",
    "    right_on=\"team_api_id\")\n",
    "\n",
    "away_home_team_matches_countries_leagues_df = hometeam_matches_countries_leagues_df.merge(\n",
    "    team_df, how=\"left\",\n",
    "    left_on=\"away_team_api_id\", \n",
    "    right_on=\"team_api_id\", \n",
    "    suffixes=[\"_home\",\"_away\"])\n",
    "\n",
    "print(away_home_team_matches_countries_leagues_df.shape)\n",
    "# awayteam_matches_countries_leagues_df[\"team_short_name_away\"]"
   ]
  },
  {
   "cell_type": "code",
   "execution_count": null,
   "metadata": {},
   "outputs": [],
   "source": [
    "# away_home_team_matches_countries_leagues_df[[\"season\",\"match_api_id\",\"team_long_name_home\",\"team_long_name_away\"]]\n"
   ]
  },
  {
   "cell_type": "code",
   "execution_count": null,
   "metadata": {},
   "outputs": [],
   "source": [
    "england_df = away_home_team_matches_countries_leagues_df[\n",
    "                    away_home_team_matches_countries_leagues_df[\"name_country\"] == \"England\"\n",
    "    ]"
   ]
  },
  {
   "cell_type": "code",
   "execution_count": null,
   "metadata": {},
   "outputs": [],
   "source": [
    "away_team_goal_mean = england_df.groupby(\"season\").mean()[\"away_team_goal\"]\n",
    "away_team_goal_mean"
   ]
  },
  {
   "cell_type": "code",
   "execution_count": null,
   "metadata": {},
   "outputs": [],
   "source": [
    "operations = {\n",
    "    \"id_match\" : \"count\",\n",
    "    \"home_team_goal\" : \"mean\",\n",
    "    \"away_team_goal\" : \"mean\"\n",
    "}\n",
    "stats_df= england_df.groupby(\"season\").agg(operations)\n",
    "print(stats_df)"
   ]
  },
  {
   "cell_type": "code",
   "execution_count": null,
   "metadata": {
    "tags": []
   },
   "outputs": [],
   "source": [
    "stats_df[\"media_goals_na_partida\"] = stats_df[\"away_team_goal\"] + stats_df[\"home_team_goal\"]\n",
    "stats_df[\"home_diff_away\"] = stats_df[\"home_team_goal\"] - stats_df[\"away_team_goal\"]\n",
    "print(stats_df)"
   ]
  },
  {
   "cell_type": "code",
   "execution_count": null,
   "metadata": {},
   "outputs": [],
   "source": [
    "ax = stats_df[\"home_diff_away\"].plot()\n",
    "ax.set_ylim(0,1)"
   ]
  }
 ],
 "metadata": {
  "kernelspec": {
   "display_name": "Python 3.7.3 64-bit",
   "language": "python",
   "name": "python37364bitbddf6ff23c984370981bf207d2baeddd"
  },
  "language_info": {
   "codemirror_mode": {
    "name": "ipython",
    "version": 3
   },
   "file_extension": ".py",
   "mimetype": "text/x-python",
   "name": "python",
   "nbconvert_exporter": "python",
   "pygments_lexer": "ipython3",
   "version": "3.7.3-final"
  }
 },
 "nbformat": 4,
 "nbformat_minor": 2
}