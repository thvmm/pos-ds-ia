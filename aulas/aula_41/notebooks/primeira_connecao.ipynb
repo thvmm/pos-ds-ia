{
 "cells": [
  {
   "cell_type": "code",
   "execution_count": null,
   "metadata": {},
   "outputs": [],
   "source": [
    "import sqlite3"
   ]
  },
  {
   "cell_type": "code",
   "execution_count": null,
   "metadata": {},
   "outputs": [],
   "source": [
    "conn = sqlite3.connect(\"../aula_40/super_heroi.sqlite\")\n",
    "conn\n"
   ]
  },
  {
   "cell_type": "code",
   "execution_count": null,
   "metadata": {},
   "outputs": [],
   "source": [
    "cursor = conn.cursor()\n",
    "cursor"
   ]
  },
  {
   "cell_type": "code",
   "execution_count": null,
   "metadata": {},
   "outputs": [],
   "source": [
    "super_herois = cursor.execute(\"SELECT * FROM SuperHeroi\").fetchall()\n",
    "len(super_herois)"
   ]
  },
  {
   "cell_type": "code",
   "execution_count": null,
   "metadata": {
    "tags": [
     "outputPrepend"
    ]
   },
   "outputs": [],
   "source": [
    "cursor_super_herois = cursor.execute(\"SELECT * FROM SuperHeroi\")\n",
    "cursor_super_herois\n",
    "for heroi in super_herois:\n",
    "    print(heroi)"
   ]
  },
  {
   "cell_type": "code",
   "execution_count": null,
   "metadata": {
    "tags": []
   },
   "outputs": [],
   "source": [
    "import pandas as pd\n",
    "dataframe = pd.DataFrame(super_herois)\n",
    "print(dataframe.head(10))"
   ]
  },
  {
   "cell_type": "code",
   "execution_count": null,
   "metadata": {
    "tags": []
   },
   "outputs": [],
   "source": [
    "fraqueza = \"Recklessness\"\n",
    "cursor.execute(\"SELECT NomeFantasia,Fraqueza FROM vilao WHERE Fraqueza = '%s'\" % fraqueza)\n",
    "print(cursor.fetchall())"
   ]
  },
  {
   "cell_type": "code",
   "execution_count": null,
   "metadata": {
    "tags": []
   },
   "outputs": [],
   "source": [
    "parametros= [\"Recklessness\"]\n",
    "cursor.execute(\"SELECT NomeFantasia,Fraqueza FROM vilao WHERE Fraqueza = ?\", parametros)\n",
    "print(cursor.fetchall())"
   ]
  },
  {
   "cell_type": "code",
   "execution_count": null,
   "metadata": {},
   "outputs": [],
   "source": [
    "# cursor.execute(\"INSERT INTO Vilao VALUES ('9999',  'Joker',  'Arthur', '49',  'ego')\")\n",
    "conn.commit()\n"
   ]
  },
  {
   "cell_type": "code",
   "execution_count": null,
   "metadata": {},
   "outputs": [],
   "source": [
    "cursor.execute(\"DELETE FROM  Vilao WHERE BatID = '9999'\")\n",
    "conn.commit()"
   ]
  },
  {
   "cell_type": "code",
   "execution_count": null,
   "metadata": {},
   "outputs": [],
   "source": [
    "novos_viloes = [\n",
    "(\"asd3e32\", \"Lex Luthor\", \"Alexander Joseph Luthor\", \"35\", \"ego\"),\n",
    "(\"a231asdad21\", \"Bane\", \"Eduardo Dorrance\", \"42\", \"overdose\"),\n",
    "]\n",
    "cursor.executemany(\"INSERT INTO Vilao VALUES (?,  ?,  ?, ?,  ?)\", novos_viloes)\n",
    "conn.commit()"
   ]
  },
  {
   "cell_type": "code",
   "execution_count": null,
   "metadata": {},
   "outputs": [],
   "source": [
    "cursor.execute(\"DELETE FROM  Vilao WHERE BatID = ?\", [novos_viloes[0][0]])\n",
    "cursor.execute(\"DELETE FROM  Vilao WHERE BatID = ?\", [novos_viloes[1][0]])\n",
    "conn.commit()"
   ]
  },
  {
   "cell_type": "code",
   "execution_count": null,
   "metadata": {},
   "outputs": [],
   "source": [
    "conn.close()"
   ]
  },
  {
   "cell_type": "code",
   "execution_count": null,
   "metadata": {},
   "outputs": [],
   "source": [
    "conn.cursor()"
   ]
  },
  {
   "cell_type": "code",
   "execution_count": null,
   "metadata": {
    "scrolled": true
   },
   "outputs": [],
   "source": []
  }
 ],
 "metadata": {
  "kernelspec": {
   "display_name": "Python 3.7.3 64-bit",
   "language": "python",
   "name": "python37364bitbddf6ff23c984370981bf207d2baeddd"
  },
  "language_info": {
   "codemirror_mode": {
    "name": "ipython",
    "version": 3
   },
   "file_extension": ".py",
   "mimetype": "text/x-python",
   "name": "python",
   "nbconvert_exporter": "python",
   "pygments_lexer": "ipython3",
   "version": "3.7.3"
  }
 },
 "nbformat": 4,
 "nbformat_minor": 2
}
